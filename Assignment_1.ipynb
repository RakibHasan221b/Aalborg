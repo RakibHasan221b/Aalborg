{
  "nbformat": 4,
  "nbformat_minor": 0,
  "metadata": {
    "colab": {
      "provenance": []
    },
    "kernelspec": {
      "name": "python3",
      "display_name": "Python 3"
    },
    "language_info": {
      "name": "python"
    }
  },
  "cells": [
    {
      "cell_type": "code",
      "execution_count": null,
      "metadata": {
        "id": "0agby9U7_Uve"
      },
      "outputs": [],
      "source": [
        "import pandas as pd\n",
        "import numpy as np\n",
        "import seaborn as sns\n",
        "import matplotlib.pyplot as plt\n",
        "import folium"
      ]
    },
    {
      "cell_type": "code",
      "source": [
        "df = pd.read_csv('/content/drive/MyDrive/GIT HUB/assignment/loan_themes_by_region (1).csv')"
      ],
      "metadata": {
        "id": "CZx3F07g_3VN"
      },
      "execution_count": null,
      "outputs": []
    },
    {
      "cell_type": "markdown",
      "source": [
        "# The Loan Themes by Region dataset is uploaded. It is contained in df variable\n"
      ],
      "metadata": {
        "id": "ZiCm6MLuGMvO"
      }
    },
    {
      "cell_type": "code",
      "source": [
        "df.head()"
      ],
      "metadata": {
        "colab": {
          "base_uri": "https://localhost:8080/",
          "height": 516
        },
        "id": "s_OqwWJRAfSC",
        "outputId": "9c270685-ba68-4e10-91fe-8675bd011fa2"
      },
      "execution_count": null,
      "outputs": [
        {
          "output_type": "execute_result",
          "data": {
            "text/plain": [
              "   Partner ID               Field Partner Name                       sector  \\\n",
              "0           9  KREDIT Microfinance Institution  General Financial Inclusion   \n",
              "1           9  KREDIT Microfinance Institution  General Financial Inclusion   \n",
              "2           9  KREDIT Microfinance Institution  General Financial Inclusion   \n",
              "3           9  KREDIT Microfinance Institution  General Financial Inclusion   \n",
              "4           9  KREDIT Microfinance Institution  General Financial Inclusion   \n",
              "\n",
              "     Loan Theme ID         Loan Theme Type   country forkiva  \\\n",
              "0  a1050000000slfi        Higher Education  Cambodia      No   \n",
              "1  a10500000068jPe  Vulnerable Populations  Cambodia      No   \n",
              "2  a1050000000slfi        Higher Education  Cambodia      No   \n",
              "3  a10500000068jPe  Vulnerable Populations  Cambodia      No   \n",
              "4  a1050000002X1Uu              Sanitation  Cambodia      No   \n",
              "\n",
              "                  region     geocode_old  ISO  ...  amount  \\\n",
              "0       Banteay Meanchey  (13.75, 103.0)  KHM  ...     450   \n",
              "1    Battambang Province             NaN  KHM  ...   20275   \n",
              "2    Battambang Province             NaN  KHM  ...    9150   \n",
              "3  Kampong Cham Province   (12.0, 105.5)  KHM  ...  604950   \n",
              "4  Kampong Cham Province   (12.0, 105.5)  KHM  ...     275   \n",
              "\n",
              "                      LocationName                      geocode  \\\n",
              "0       Banteay Meanchey, Cambodia  [(13.6672596, 102.8975098)]   \n",
              "1    Battambang Province, Cambodia   [(13.0286971, 102.989615)]   \n",
              "2    Battambang Province, Cambodia   [(13.0286971, 102.989615)]   \n",
              "3  Kampong Cham Province, Cambodia  [(12.0982918, 105.3131185)]   \n",
              "4  Kampong Cham Province, Cambodia  [(12.0982918, 105.3131185)]   \n",
              "\n",
              "                                 names                        geo        lat  \\\n",
              "0  Banteay Meanchey Province; Cambodia  (13.6672596, 102.8975098)  13.667260   \n",
              "1        Battambang Province; Cambodia   (13.0286971, 102.989615)  13.028697   \n",
              "2        Battambang Province; Cambodia   (13.0286971, 102.989615)  13.028697   \n",
              "3      Kampong Cham Province; Cambodia  (12.0982918, 105.3131185)  12.098292   \n",
              "4      Kampong Cham Province; Cambodia  (12.0982918, 105.3131185)  12.098292   \n",
              "\n",
              "          lon                   mpi_region                    mpi_geo  \\\n",
              "0  102.897510  Banteay Mean Chey, Cambodia  (13.6672596, 102.8975098)   \n",
              "1  102.989615  Banteay Mean Chey, Cambodia  (13.6672596, 102.8975098)   \n",
              "2  102.989615  Banteay Mean Chey, Cambodia  (13.6672596, 102.8975098)   \n",
              "3  105.313119       Kampong Cham, Cambodia  (11.9924294, 105.4645408)   \n",
              "4  105.313119       Kampong Cham, Cambodia  (11.9924294, 105.4645408)   \n",
              "\n",
              "  rural_pct  \n",
              "0      90.0  \n",
              "1      90.0  \n",
              "2      90.0  \n",
              "3      90.0  \n",
              "4      90.0  \n",
              "\n",
              "[5 rows x 21 columns]"
            ],
            "text/html": [
              "\n",
              "  <div id=\"df-8ad49777-5e36-48fa-a67d-fd2e0b27defc\" class=\"colab-df-container\">\n",
              "    <div>\n",
              "<style scoped>\n",
              "    .dataframe tbody tr th:only-of-type {\n",
              "        vertical-align: middle;\n",
              "    }\n",
              "\n",
              "    .dataframe tbody tr th {\n",
              "        vertical-align: top;\n",
              "    }\n",
              "\n",
              "    .dataframe thead th {\n",
              "        text-align: right;\n",
              "    }\n",
              "</style>\n",
              "<table border=\"1\" class=\"dataframe\">\n",
              "  <thead>\n",
              "    <tr style=\"text-align: right;\">\n",
              "      <th></th>\n",
              "      <th>Partner ID</th>\n",
              "      <th>Field Partner Name</th>\n",
              "      <th>sector</th>\n",
              "      <th>Loan Theme ID</th>\n",
              "      <th>Loan Theme Type</th>\n",
              "      <th>country</th>\n",
              "      <th>forkiva</th>\n",
              "      <th>region</th>\n",
              "      <th>geocode_old</th>\n",
              "      <th>ISO</th>\n",
              "      <th>...</th>\n",
              "      <th>amount</th>\n",
              "      <th>LocationName</th>\n",
              "      <th>geocode</th>\n",
              "      <th>names</th>\n",
              "      <th>geo</th>\n",
              "      <th>lat</th>\n",
              "      <th>lon</th>\n",
              "      <th>mpi_region</th>\n",
              "      <th>mpi_geo</th>\n",
              "      <th>rural_pct</th>\n",
              "    </tr>\n",
              "  </thead>\n",
              "  <tbody>\n",
              "    <tr>\n",
              "      <th>0</th>\n",
              "      <td>9</td>\n",
              "      <td>KREDIT Microfinance Institution</td>\n",
              "      <td>General Financial Inclusion</td>\n",
              "      <td>a1050000000slfi</td>\n",
              "      <td>Higher Education</td>\n",
              "      <td>Cambodia</td>\n",
              "      <td>No</td>\n",
              "      <td>Banteay Meanchey</td>\n",
              "      <td>(13.75, 103.0)</td>\n",
              "      <td>KHM</td>\n",
              "      <td>...</td>\n",
              "      <td>450</td>\n",
              "      <td>Banteay Meanchey, Cambodia</td>\n",
              "      <td>[(13.6672596, 102.8975098)]</td>\n",
              "      <td>Banteay Meanchey Province; Cambodia</td>\n",
              "      <td>(13.6672596, 102.8975098)</td>\n",
              "      <td>13.667260</td>\n",
              "      <td>102.897510</td>\n",
              "      <td>Banteay Mean Chey, Cambodia</td>\n",
              "      <td>(13.6672596, 102.8975098)</td>\n",
              "      <td>90.0</td>\n",
              "    </tr>\n",
              "    <tr>\n",
              "      <th>1</th>\n",
              "      <td>9</td>\n",
              "      <td>KREDIT Microfinance Institution</td>\n",
              "      <td>General Financial Inclusion</td>\n",
              "      <td>a10500000068jPe</td>\n",
              "      <td>Vulnerable Populations</td>\n",
              "      <td>Cambodia</td>\n",
              "      <td>No</td>\n",
              "      <td>Battambang Province</td>\n",
              "      <td>NaN</td>\n",
              "      <td>KHM</td>\n",
              "      <td>...</td>\n",
              "      <td>20275</td>\n",
              "      <td>Battambang Province, Cambodia</td>\n",
              "      <td>[(13.0286971, 102.989615)]</td>\n",
              "      <td>Battambang Province; Cambodia</td>\n",
              "      <td>(13.0286971, 102.989615)</td>\n",
              "      <td>13.028697</td>\n",
              "      <td>102.989615</td>\n",
              "      <td>Banteay Mean Chey, Cambodia</td>\n",
              "      <td>(13.6672596, 102.8975098)</td>\n",
              "      <td>90.0</td>\n",
              "    </tr>\n",
              "    <tr>\n",
              "      <th>2</th>\n",
              "      <td>9</td>\n",
              "      <td>KREDIT Microfinance Institution</td>\n",
              "      <td>General Financial Inclusion</td>\n",
              "      <td>a1050000000slfi</td>\n",
              "      <td>Higher Education</td>\n",
              "      <td>Cambodia</td>\n",
              "      <td>No</td>\n",
              "      <td>Battambang Province</td>\n",
              "      <td>NaN</td>\n",
              "      <td>KHM</td>\n",
              "      <td>...</td>\n",
              "      <td>9150</td>\n",
              "      <td>Battambang Province, Cambodia</td>\n",
              "      <td>[(13.0286971, 102.989615)]</td>\n",
              "      <td>Battambang Province; Cambodia</td>\n",
              "      <td>(13.0286971, 102.989615)</td>\n",
              "      <td>13.028697</td>\n",
              "      <td>102.989615</td>\n",
              "      <td>Banteay Mean Chey, Cambodia</td>\n",
              "      <td>(13.6672596, 102.8975098)</td>\n",
              "      <td>90.0</td>\n",
              "    </tr>\n",
              "    <tr>\n",
              "      <th>3</th>\n",
              "      <td>9</td>\n",
              "      <td>KREDIT Microfinance Institution</td>\n",
              "      <td>General Financial Inclusion</td>\n",
              "      <td>a10500000068jPe</td>\n",
              "      <td>Vulnerable Populations</td>\n",
              "      <td>Cambodia</td>\n",
              "      <td>No</td>\n",
              "      <td>Kampong Cham Province</td>\n",
              "      <td>(12.0, 105.5)</td>\n",
              "      <td>KHM</td>\n",
              "      <td>...</td>\n",
              "      <td>604950</td>\n",
              "      <td>Kampong Cham Province, Cambodia</td>\n",
              "      <td>[(12.0982918, 105.3131185)]</td>\n",
              "      <td>Kampong Cham Province; Cambodia</td>\n",
              "      <td>(12.0982918, 105.3131185)</td>\n",
              "      <td>12.098292</td>\n",
              "      <td>105.313119</td>\n",
              "      <td>Kampong Cham, Cambodia</td>\n",
              "      <td>(11.9924294, 105.4645408)</td>\n",
              "      <td>90.0</td>\n",
              "    </tr>\n",
              "    <tr>\n",
              "      <th>4</th>\n",
              "      <td>9</td>\n",
              "      <td>KREDIT Microfinance Institution</td>\n",
              "      <td>General Financial Inclusion</td>\n",
              "      <td>a1050000002X1Uu</td>\n",
              "      <td>Sanitation</td>\n",
              "      <td>Cambodia</td>\n",
              "      <td>No</td>\n",
              "      <td>Kampong Cham Province</td>\n",
              "      <td>(12.0, 105.5)</td>\n",
              "      <td>KHM</td>\n",
              "      <td>...</td>\n",
              "      <td>275</td>\n",
              "      <td>Kampong Cham Province, Cambodia</td>\n",
              "      <td>[(12.0982918, 105.3131185)]</td>\n",
              "      <td>Kampong Cham Province; Cambodia</td>\n",
              "      <td>(12.0982918, 105.3131185)</td>\n",
              "      <td>12.098292</td>\n",
              "      <td>105.313119</td>\n",
              "      <td>Kampong Cham, Cambodia</td>\n",
              "      <td>(11.9924294, 105.4645408)</td>\n",
              "      <td>90.0</td>\n",
              "    </tr>\n",
              "  </tbody>\n",
              "</table>\n",
              "<p>5 rows × 21 columns</p>\n",
              "</div>\n",
              "    <div class=\"colab-df-buttons\">\n",
              "\n",
              "  <div class=\"colab-df-container\">\n",
              "    <button class=\"colab-df-convert\" onclick=\"convertToInteractive('df-8ad49777-5e36-48fa-a67d-fd2e0b27defc')\"\n",
              "            title=\"Convert this dataframe to an interactive table.\"\n",
              "            style=\"display:none;\">\n",
              "\n",
              "  <svg xmlns=\"http://www.w3.org/2000/svg\" height=\"24px\" viewBox=\"0 -960 960 960\">\n",
              "    <path d=\"M120-120v-720h720v720H120Zm60-500h600v-160H180v160Zm220 220h160v-160H400v160Zm0 220h160v-160H400v160ZM180-400h160v-160H180v160Zm440 0h160v-160H620v160ZM180-180h160v-160H180v160Zm440 0h160v-160H620v160Z\"/>\n",
              "  </svg>\n",
              "    </button>\n",
              "\n",
              "  <style>\n",
              "    .colab-df-container {\n",
              "      display:flex;\n",
              "      gap: 12px;\n",
              "    }\n",
              "\n",
              "    .colab-df-convert {\n",
              "      background-color: #E8F0FE;\n",
              "      border: none;\n",
              "      border-radius: 50%;\n",
              "      cursor: pointer;\n",
              "      display: none;\n",
              "      fill: #1967D2;\n",
              "      height: 32px;\n",
              "      padding: 0 0 0 0;\n",
              "      width: 32px;\n",
              "    }\n",
              "\n",
              "    .colab-df-convert:hover {\n",
              "      background-color: #E2EBFA;\n",
              "      box-shadow: 0px 1px 2px rgba(60, 64, 67, 0.3), 0px 1px 3px 1px rgba(60, 64, 67, 0.15);\n",
              "      fill: #174EA6;\n",
              "    }\n",
              "\n",
              "    .colab-df-buttons div {\n",
              "      margin-bottom: 4px;\n",
              "    }\n",
              "\n",
              "    [theme=dark] .colab-df-convert {\n",
              "      background-color: #3B4455;\n",
              "      fill: #D2E3FC;\n",
              "    }\n",
              "\n",
              "    [theme=dark] .colab-df-convert:hover {\n",
              "      background-color: #434B5C;\n",
              "      box-shadow: 0px 1px 3px 1px rgba(0, 0, 0, 0.15);\n",
              "      filter: drop-shadow(0px 1px 2px rgba(0, 0, 0, 0.3));\n",
              "      fill: #FFFFFF;\n",
              "    }\n",
              "  </style>\n",
              "\n",
              "    <script>\n",
              "      const buttonEl =\n",
              "        document.querySelector('#df-8ad49777-5e36-48fa-a67d-fd2e0b27defc button.colab-df-convert');\n",
              "      buttonEl.style.display =\n",
              "        google.colab.kernel.accessAllowed ? 'block' : 'none';\n",
              "\n",
              "      async function convertToInteractive(key) {\n",
              "        const element = document.querySelector('#df-8ad49777-5e36-48fa-a67d-fd2e0b27defc');\n",
              "        const dataTable =\n",
              "          await google.colab.kernel.invokeFunction('convertToInteractive',\n",
              "                                                    [key], {});\n",
              "        if (!dataTable) return;\n",
              "\n",
              "        const docLinkHtml = 'Like what you see? Visit the ' +\n",
              "          '<a target=\"_blank\" href=https://colab.research.google.com/notebooks/data_table.ipynb>data table notebook</a>'\n",
              "          + ' to learn more about interactive tables.';\n",
              "        element.innerHTML = '';\n",
              "        dataTable['output_type'] = 'display_data';\n",
              "        await google.colab.output.renderOutput(dataTable, element);\n",
              "        const docLink = document.createElement('div');\n",
              "        docLink.innerHTML = docLinkHtml;\n",
              "        element.appendChild(docLink);\n",
              "      }\n",
              "    </script>\n",
              "  </div>\n",
              "\n",
              "\n",
              "<div id=\"df-3cd53450-34c8-442a-a719-d48257419457\">\n",
              "  <button class=\"colab-df-quickchart\" onclick=\"quickchart('df-3cd53450-34c8-442a-a719-d48257419457')\"\n",
              "            title=\"Suggest charts\"\n",
              "            style=\"display:none;\">\n",
              "\n",
              "<svg xmlns=\"http://www.w3.org/2000/svg\" height=\"24px\"viewBox=\"0 0 24 24\"\n",
              "     width=\"24px\">\n",
              "    <g>\n",
              "        <path d=\"M19 3H5c-1.1 0-2 .9-2 2v14c0 1.1.9 2 2 2h14c1.1 0 2-.9 2-2V5c0-1.1-.9-2-2-2zM9 17H7v-7h2v7zm4 0h-2V7h2v10zm4 0h-2v-4h2v4z\"/>\n",
              "    </g>\n",
              "</svg>\n",
              "  </button>\n",
              "\n",
              "<style>\n",
              "  .colab-df-quickchart {\n",
              "      --bg-color: #E8F0FE;\n",
              "      --fill-color: #1967D2;\n",
              "      --hover-bg-color: #E2EBFA;\n",
              "      --hover-fill-color: #174EA6;\n",
              "      --disabled-fill-color: #AAA;\n",
              "      --disabled-bg-color: #DDD;\n",
              "  }\n",
              "\n",
              "  [theme=dark] .colab-df-quickchart {\n",
              "      --bg-color: #3B4455;\n",
              "      --fill-color: #D2E3FC;\n",
              "      --hover-bg-color: #434B5C;\n",
              "      --hover-fill-color: #FFFFFF;\n",
              "      --disabled-bg-color: #3B4455;\n",
              "      --disabled-fill-color: #666;\n",
              "  }\n",
              "\n",
              "  .colab-df-quickchart {\n",
              "    background-color: var(--bg-color);\n",
              "    border: none;\n",
              "    border-radius: 50%;\n",
              "    cursor: pointer;\n",
              "    display: none;\n",
              "    fill: var(--fill-color);\n",
              "    height: 32px;\n",
              "    padding: 0;\n",
              "    width: 32px;\n",
              "  }\n",
              "\n",
              "  .colab-df-quickchart:hover {\n",
              "    background-color: var(--hover-bg-color);\n",
              "    box-shadow: 0 1px 2px rgba(60, 64, 67, 0.3), 0 1px 3px 1px rgba(60, 64, 67, 0.15);\n",
              "    fill: var(--button-hover-fill-color);\n",
              "  }\n",
              "\n",
              "  .colab-df-quickchart-complete:disabled,\n",
              "  .colab-df-quickchart-complete:disabled:hover {\n",
              "    background-color: var(--disabled-bg-color);\n",
              "    fill: var(--disabled-fill-color);\n",
              "    box-shadow: none;\n",
              "  }\n",
              "\n",
              "  .colab-df-spinner {\n",
              "    border: 2px solid var(--fill-color);\n",
              "    border-color: transparent;\n",
              "    border-bottom-color: var(--fill-color);\n",
              "    animation:\n",
              "      spin 1s steps(1) infinite;\n",
              "  }\n",
              "\n",
              "  @keyframes spin {\n",
              "    0% {\n",
              "      border-color: transparent;\n",
              "      border-bottom-color: var(--fill-color);\n",
              "      border-left-color: var(--fill-color);\n",
              "    }\n",
              "    20% {\n",
              "      border-color: transparent;\n",
              "      border-left-color: var(--fill-color);\n",
              "      border-top-color: var(--fill-color);\n",
              "    }\n",
              "    30% {\n",
              "      border-color: transparent;\n",
              "      border-left-color: var(--fill-color);\n",
              "      border-top-color: var(--fill-color);\n",
              "      border-right-color: var(--fill-color);\n",
              "    }\n",
              "    40% {\n",
              "      border-color: transparent;\n",
              "      border-right-color: var(--fill-color);\n",
              "      border-top-color: var(--fill-color);\n",
              "    }\n",
              "    60% {\n",
              "      border-color: transparent;\n",
              "      border-right-color: var(--fill-color);\n",
              "    }\n",
              "    80% {\n",
              "      border-color: transparent;\n",
              "      border-right-color: var(--fill-color);\n",
              "      border-bottom-color: var(--fill-color);\n",
              "    }\n",
              "    90% {\n",
              "      border-color: transparent;\n",
              "      border-bottom-color: var(--fill-color);\n",
              "    }\n",
              "  }\n",
              "</style>\n",
              "\n",
              "  <script>\n",
              "    async function quickchart(key) {\n",
              "      const quickchartButtonEl =\n",
              "        document.querySelector('#' + key + ' button');\n",
              "      quickchartButtonEl.disabled = true;  // To prevent multiple clicks.\n",
              "      quickchartButtonEl.classList.add('colab-df-spinner');\n",
              "      try {\n",
              "        const charts = await google.colab.kernel.invokeFunction(\n",
              "            'suggestCharts', [key], {});\n",
              "      } catch (error) {\n",
              "        console.error('Error during call to suggestCharts:', error);\n",
              "      }\n",
              "      quickchartButtonEl.classList.remove('colab-df-spinner');\n",
              "      quickchartButtonEl.classList.add('colab-df-quickchart-complete');\n",
              "    }\n",
              "    (() => {\n",
              "      let quickchartButtonEl =\n",
              "        document.querySelector('#df-3cd53450-34c8-442a-a719-d48257419457 button');\n",
              "      quickchartButtonEl.style.display =\n",
              "        google.colab.kernel.accessAllowed ? 'block' : 'none';\n",
              "    })();\n",
              "  </script>\n",
              "</div>\n",
              "\n",
              "    </div>\n",
              "  </div>\n"
            ],
            "application/vnd.google.colaboratory.intrinsic+json": {
              "type": "dataframe",
              "variable_name": "df"
            }
          },
          "metadata": {},
          "execution_count": 3
        }
      ]
    },
    {
      "cell_type": "code",
      "source": [
        "df.info()"
      ],
      "metadata": {
        "colab": {
          "base_uri": "https://localhost:8080/"
        },
        "id": "W5Vj3bwxAiTZ",
        "outputId": "a575c68e-87da-4b5f-d25d-a99e69f7d51b"
      },
      "execution_count": null,
      "outputs": [
        {
          "output_type": "stream",
          "name": "stdout",
          "text": [
            "<class 'pandas.core.frame.DataFrame'>\n",
            "RangeIndex: 15736 entries, 0 to 15735\n",
            "Data columns (total 21 columns):\n",
            " #   Column              Non-Null Count  Dtype  \n",
            "---  ------              --------------  -----  \n",
            " 0   Partner ID          15736 non-null  int64  \n",
            " 1   Field Partner Name  15736 non-null  object \n",
            " 2   sector              15736 non-null  object \n",
            " 3   Loan Theme ID       15736 non-null  object \n",
            " 4   Loan Theme Type     15736 non-null  object \n",
            " 5   country             15736 non-null  object \n",
            " 6   forkiva             15736 non-null  object \n",
            " 7   region              15736 non-null  object \n",
            " 8   geocode_old         1200 non-null   object \n",
            " 9   ISO                 15722 non-null  object \n",
            " 10  number              15736 non-null  int64  \n",
            " 11  amount              15736 non-null  int64  \n",
            " 12  LocationName        15736 non-null  object \n",
            " 13  geocode             13662 non-null  object \n",
            " 14  names               13661 non-null  object \n",
            " 15  geo                 15736 non-null  object \n",
            " 16  lat                 13662 non-null  float64\n",
            " 17  lon                 13662 non-null  float64\n",
            " 18  mpi_region          15722 non-null  object \n",
            " 19  mpi_geo             9671 non-null   object \n",
            " 20  rural_pct           14344 non-null  float64\n",
            "dtypes: float64(3), int64(3), object(15)\n",
            "memory usage: 2.5+ MB\n"
          ]
        }
      ]
    },
    {
      "cell_type": "markdown",
      "source": [
        "# The information shows that we have missing values. we will assign them in different data types to make our explanatory analysis."
      ],
      "metadata": {
        "id": "vkoK5rtoGoTY"
      }
    },
    {
      "cell_type": "code",
      "source": [
        "df.isnull().sum()"
      ],
      "metadata": {
        "colab": {
          "base_uri": "https://localhost:8080/",
          "height": 742
        },
        "id": "aFBH3OIaAuOJ",
        "outputId": "ad14c90d-68c6-4690-8b74-20cf9d26e0e9"
      },
      "execution_count": null,
      "outputs": [
        {
          "output_type": "execute_result",
          "data": {
            "text/plain": [
              "Partner ID                0\n",
              "Field Partner Name        0\n",
              "sector                    0\n",
              "Loan Theme ID             0\n",
              "Loan Theme Type           0\n",
              "country                   0\n",
              "forkiva                   0\n",
              "region                    0\n",
              "geocode_old           14536\n",
              "ISO                      14\n",
              "number                    0\n",
              "amount                    0\n",
              "LocationName              0\n",
              "geocode                2074\n",
              "names                  2075\n",
              "geo                       0\n",
              "lat                    2074\n",
              "lon                    2074\n",
              "mpi_region               14\n",
              "mpi_geo                6065\n",
              "rural_pct              1392\n",
              "dtype: int64"
            ],
            "text/html": [
              "<div>\n",
              "<style scoped>\n",
              "    .dataframe tbody tr th:only-of-type {\n",
              "        vertical-align: middle;\n",
              "    }\n",
              "\n",
              "    .dataframe tbody tr th {\n",
              "        vertical-align: top;\n",
              "    }\n",
              "\n",
              "    .dataframe thead th {\n",
              "        text-align: right;\n",
              "    }\n",
              "</style>\n",
              "<table border=\"1\" class=\"dataframe\">\n",
              "  <thead>\n",
              "    <tr style=\"text-align: right;\">\n",
              "      <th></th>\n",
              "      <th>0</th>\n",
              "    </tr>\n",
              "  </thead>\n",
              "  <tbody>\n",
              "    <tr>\n",
              "      <th>Partner ID</th>\n",
              "      <td>0</td>\n",
              "    </tr>\n",
              "    <tr>\n",
              "      <th>Field Partner Name</th>\n",
              "      <td>0</td>\n",
              "    </tr>\n",
              "    <tr>\n",
              "      <th>sector</th>\n",
              "      <td>0</td>\n",
              "    </tr>\n",
              "    <tr>\n",
              "      <th>Loan Theme ID</th>\n",
              "      <td>0</td>\n",
              "    </tr>\n",
              "    <tr>\n",
              "      <th>Loan Theme Type</th>\n",
              "      <td>0</td>\n",
              "    </tr>\n",
              "    <tr>\n",
              "      <th>country</th>\n",
              "      <td>0</td>\n",
              "    </tr>\n",
              "    <tr>\n",
              "      <th>forkiva</th>\n",
              "      <td>0</td>\n",
              "    </tr>\n",
              "    <tr>\n",
              "      <th>region</th>\n",
              "      <td>0</td>\n",
              "    </tr>\n",
              "    <tr>\n",
              "      <th>geocode_old</th>\n",
              "      <td>14536</td>\n",
              "    </tr>\n",
              "    <tr>\n",
              "      <th>ISO</th>\n",
              "      <td>14</td>\n",
              "    </tr>\n",
              "    <tr>\n",
              "      <th>number</th>\n",
              "      <td>0</td>\n",
              "    </tr>\n",
              "    <tr>\n",
              "      <th>amount</th>\n",
              "      <td>0</td>\n",
              "    </tr>\n",
              "    <tr>\n",
              "      <th>LocationName</th>\n",
              "      <td>0</td>\n",
              "    </tr>\n",
              "    <tr>\n",
              "      <th>geocode</th>\n",
              "      <td>2074</td>\n",
              "    </tr>\n",
              "    <tr>\n",
              "      <th>names</th>\n",
              "      <td>2075</td>\n",
              "    </tr>\n",
              "    <tr>\n",
              "      <th>geo</th>\n",
              "      <td>0</td>\n",
              "    </tr>\n",
              "    <tr>\n",
              "      <th>lat</th>\n",
              "      <td>2074</td>\n",
              "    </tr>\n",
              "    <tr>\n",
              "      <th>lon</th>\n",
              "      <td>2074</td>\n",
              "    </tr>\n",
              "    <tr>\n",
              "      <th>mpi_region</th>\n",
              "      <td>14</td>\n",
              "    </tr>\n",
              "    <tr>\n",
              "      <th>mpi_geo</th>\n",
              "      <td>6065</td>\n",
              "    </tr>\n",
              "    <tr>\n",
              "      <th>rural_pct</th>\n",
              "      <td>1392</td>\n",
              "    </tr>\n",
              "  </tbody>\n",
              "</table>\n",
              "</div><br><label><b>dtype:</b> int64</label>"
            ]
          },
          "metadata": {},
          "execution_count": 5
        }
      ]
    },
    {
      "cell_type": "markdown",
      "source": [
        "# the isnull().sum() function shows that how many missing values are present in what features. We will try to handle them according to their importance and proportion to the dataset."
      ],
      "metadata": {
        "id": "sn_TEoVHHCXY"
      }
    },
    {
      "cell_type": "code",
      "source": [
        "df.drop(columns=['geocode_old', 'mpi_geo'], inplace= True)"
      ],
      "metadata": {
        "id": "Ypi8GB29Ax1m"
      },
      "execution_count": null,
      "outputs": []
    },
    {
      "cell_type": "markdown",
      "source": [
        "# because of having high proportion of missing values we dropped geocode_old and mpi_geo"
      ],
      "metadata": {
        "id": "ed7wkEhrMsaz"
      }
    },
    {
      "cell_type": "code",
      "source": [
        "df['ISO'].fillna('unknown', inplace=True)\n",
        "df['geocode'].fillna('unknown', inplace=True)\n",
        "df['names'].fillna('unknown', inplace=True)\n",
        "df['mpi_region'].fillna('unknown', inplace=True)\n",
        "df['rural_pct'].fillna(df['rural_pct'].median(), inplace=True)\n",
        "df.dropna(subset=['lat' , 'lon'], inplace=True)"
      ],
      "metadata": {
        "id": "VN3B27FMBX7Y"
      },
      "execution_count": null,
      "outputs": []
    },
    {
      "cell_type": "markdown",
      "source": [
        "Missing values in categorical features are replaced with \"Unknown,\" as their occurrence is minimal and can be grouped into a new category. Additionally, for geographical features, rows with missing values are removed entirely"
      ],
      "metadata": {
        "id": "vK_LDSnhP7jz"
      }
    },
    {
      "cell_type": "code",
      "source": [
        "df['amount'] = df['amount'].astype(float)\n",
        "df['rural_pct'] = df['rural_pct'].astype(float)\n",
        "categorical_columns = ['Field Partner Name' , 'sector', 'Loan Theme ID', 'Loan Theme Type', 'forkiva', 'region', 'ISO', 'LocationName', 'geo', 'mpi_region']\n",
        "df[categorical_columns] = df[categorical_columns].astype('category')"
      ],
      "metadata": {
        "id": "pqzC6t6AFpBP"
      },
      "execution_count": null,
      "outputs": []
    },
    {
      "cell_type": "markdown",
      "source": [
        "here all the features are converted according to their datatypes based on the values."
      ],
      "metadata": {
        "id": "nB5454bVNuG7"
      }
    },
    {
      "cell_type": "code",
      "source": [
        "df.isnull().sum()"
      ],
      "metadata": {
        "colab": {
          "base_uri": "https://localhost:8080/",
          "height": 680
        },
        "id": "9dMVEj76IKVn",
        "outputId": "17ff4565-8750-41b6-e73b-3c0e5c95d94d"
      },
      "execution_count": null,
      "outputs": [
        {
          "output_type": "execute_result",
          "data": {
            "text/plain": [
              "Partner ID            0\n",
              "Field Partner Name    0\n",
              "sector                0\n",
              "Loan Theme ID         0\n",
              "Loan Theme Type       0\n",
              "country               0\n",
              "forkiva               0\n",
              "region                0\n",
              "ISO                   0\n",
              "number                0\n",
              "amount                0\n",
              "LocationName          0\n",
              "geocode               0\n",
              "names                 0\n",
              "geo                   0\n",
              "lat                   0\n",
              "lon                   0\n",
              "mpi_region            0\n",
              "rural_pct             0\n",
              "dtype: int64"
            ],
            "text/html": [
              "<div>\n",
              "<style scoped>\n",
              "    .dataframe tbody tr th:only-of-type {\n",
              "        vertical-align: middle;\n",
              "    }\n",
              "\n",
              "    .dataframe tbody tr th {\n",
              "        vertical-align: top;\n",
              "    }\n",
              "\n",
              "    .dataframe thead th {\n",
              "        text-align: right;\n",
              "    }\n",
              "</style>\n",
              "<table border=\"1\" class=\"dataframe\">\n",
              "  <thead>\n",
              "    <tr style=\"text-align: right;\">\n",
              "      <th></th>\n",
              "      <th>0</th>\n",
              "    </tr>\n",
              "  </thead>\n",
              "  <tbody>\n",
              "    <tr>\n",
              "      <th>Partner ID</th>\n",
              "      <td>0</td>\n",
              "    </tr>\n",
              "    <tr>\n",
              "      <th>Field Partner Name</th>\n",
              "      <td>0</td>\n",
              "    </tr>\n",
              "    <tr>\n",
              "      <th>sector</th>\n",
              "      <td>0</td>\n",
              "    </tr>\n",
              "    <tr>\n",
              "      <th>Loan Theme ID</th>\n",
              "      <td>0</td>\n",
              "    </tr>\n",
              "    <tr>\n",
              "      <th>Loan Theme Type</th>\n",
              "      <td>0</td>\n",
              "    </tr>\n",
              "    <tr>\n",
              "      <th>country</th>\n",
              "      <td>0</td>\n",
              "    </tr>\n",
              "    <tr>\n",
              "      <th>forkiva</th>\n",
              "      <td>0</td>\n",
              "    </tr>\n",
              "    <tr>\n",
              "      <th>region</th>\n",
              "      <td>0</td>\n",
              "    </tr>\n",
              "    <tr>\n",
              "      <th>ISO</th>\n",
              "      <td>0</td>\n",
              "    </tr>\n",
              "    <tr>\n",
              "      <th>number</th>\n",
              "      <td>0</td>\n",
              "    </tr>\n",
              "    <tr>\n",
              "      <th>amount</th>\n",
              "      <td>0</td>\n",
              "    </tr>\n",
              "    <tr>\n",
              "      <th>LocationName</th>\n",
              "      <td>0</td>\n",
              "    </tr>\n",
              "    <tr>\n",
              "      <th>geocode</th>\n",
              "      <td>0</td>\n",
              "    </tr>\n",
              "    <tr>\n",
              "      <th>names</th>\n",
              "      <td>0</td>\n",
              "    </tr>\n",
              "    <tr>\n",
              "      <th>geo</th>\n",
              "      <td>0</td>\n",
              "    </tr>\n",
              "    <tr>\n",
              "      <th>lat</th>\n",
              "      <td>0</td>\n",
              "    </tr>\n",
              "    <tr>\n",
              "      <th>lon</th>\n",
              "      <td>0</td>\n",
              "    </tr>\n",
              "    <tr>\n",
              "      <th>mpi_region</th>\n",
              "      <td>0</td>\n",
              "    </tr>\n",
              "    <tr>\n",
              "      <th>rural_pct</th>\n",
              "      <td>0</td>\n",
              "    </tr>\n",
              "  </tbody>\n",
              "</table>\n",
              "</div><br><label><b>dtype:</b> int64</label>"
            ]
          },
          "metadata": {},
          "execution_count": 9
        }
      ]
    },
    {
      "cell_type": "markdown",
      "source": [
        "Now we can see that there are no missing vlues"
      ],
      "metadata": {
        "id": "9-HfPx9YSL6x"
      }
    },
    {
      "cell_type": "code",
      "source": [
        "df.info()"
      ],
      "metadata": {
        "colab": {
          "base_uri": "https://localhost:8080/"
        },
        "id": "_uO-9HS2IeJa",
        "outputId": "6f49735b-8f9a-44e8-d996-f01ca2dbd4bd"
      },
      "execution_count": null,
      "outputs": [
        {
          "output_type": "stream",
          "name": "stdout",
          "text": [
            "<class 'pandas.core.frame.DataFrame'>\n",
            "Index: 13662 entries, 0 to 15735\n",
            "Data columns (total 19 columns):\n",
            " #   Column              Non-Null Count  Dtype   \n",
            "---  ------              --------------  -----   \n",
            " 0   Partner ID          13662 non-null  int64   \n",
            " 1   Field Partner Name  13662 non-null  category\n",
            " 2   sector              13662 non-null  category\n",
            " 3   Loan Theme ID       13662 non-null  category\n",
            " 4   Loan Theme Type     13662 non-null  category\n",
            " 5   country             13662 non-null  object  \n",
            " 6   forkiva             13662 non-null  category\n",
            " 7   region              13662 non-null  category\n",
            " 8   ISO                 13662 non-null  category\n",
            " 9   number              13662 non-null  int64   \n",
            " 10  amount              13662 non-null  float64 \n",
            " 11  LocationName        13662 non-null  category\n",
            " 12  geocode             13662 non-null  object  \n",
            " 13  names               13662 non-null  object  \n",
            " 14  geo                 13662 non-null  category\n",
            " 15  lat                 13662 non-null  float64 \n",
            " 16  lon                 13662 non-null  float64 \n",
            " 17  mpi_region          13662 non-null  category\n",
            " 18  rural_pct           13662 non-null  float64 \n",
            "dtypes: category(10), float64(4), int64(2), object(3)\n",
            "memory usage: 2.2+ MB\n"
          ]
        }
      ]
    },
    {
      "cell_type": "code",
      "source": [
        "df.describe()"
      ],
      "metadata": {
        "colab": {
          "base_uri": "https://localhost:8080/",
          "height": 300
        },
        "id": "mgtTmraVIiSy",
        "outputId": "0b0ff1b4-3070-4b16-b4ff-90a7a7a78b96"
      },
      "execution_count": null,
      "outputs": [
        {
          "output_type": "execute_result",
          "data": {
            "text/plain": [
              "         Partner ID        number        amount           lat           lon  \\\n",
              "count  13662.000000  13662.000000  1.366200e+04  13662.000000  13662.000000   \n",
              "mean     184.401332     59.275655  2.223745e+04     14.328878     29.433569   \n",
              "std      110.018643    429.616795  1.026640e+05     16.757689     83.255739   \n",
              "min        9.000000      1.000000  2.500000e+01    -34.610548   -172.790661   \n",
              "25%      123.000000      1.000000  1.025000e+03      6.266728    -71.967463   \n",
              "50%      151.000000      4.000000  3.000000e+03     13.484101     41.899993   \n",
              "75%      204.000000     16.000000  1.010000e+04     22.189940    106.677321   \n",
              "max      545.000000  22538.000000  4.929900e+06     51.314017    159.972900   \n",
              "\n",
              "          rural_pct  \n",
              "count  13662.000000  \n",
              "mean      66.783121  \n",
              "std       25.699009  \n",
              "min        0.000000  \n",
              "25%       60.000000  \n",
              "50%       73.000000  \n",
              "75%       84.000000  \n",
              "max      100.000000  "
            ],
            "text/html": [
              "\n",
              "  <div id=\"df-41bf6471-579f-4810-b964-7b4598929a65\" class=\"colab-df-container\">\n",
              "    <div>\n",
              "<style scoped>\n",
              "    .dataframe tbody tr th:only-of-type {\n",
              "        vertical-align: middle;\n",
              "    }\n",
              "\n",
              "    .dataframe tbody tr th {\n",
              "        vertical-align: top;\n",
              "    }\n",
              "\n",
              "    .dataframe thead th {\n",
              "        text-align: right;\n",
              "    }\n",
              "</style>\n",
              "<table border=\"1\" class=\"dataframe\">\n",
              "  <thead>\n",
              "    <tr style=\"text-align: right;\">\n",
              "      <th></th>\n",
              "      <th>Partner ID</th>\n",
              "      <th>number</th>\n",
              "      <th>amount</th>\n",
              "      <th>lat</th>\n",
              "      <th>lon</th>\n",
              "      <th>rural_pct</th>\n",
              "    </tr>\n",
              "  </thead>\n",
              "  <tbody>\n",
              "    <tr>\n",
              "      <th>count</th>\n",
              "      <td>13662.000000</td>\n",
              "      <td>13662.000000</td>\n",
              "      <td>1.366200e+04</td>\n",
              "      <td>13662.000000</td>\n",
              "      <td>13662.000000</td>\n",
              "      <td>13662.000000</td>\n",
              "    </tr>\n",
              "    <tr>\n",
              "      <th>mean</th>\n",
              "      <td>184.401332</td>\n",
              "      <td>59.275655</td>\n",
              "      <td>2.223745e+04</td>\n",
              "      <td>14.328878</td>\n",
              "      <td>29.433569</td>\n",
              "      <td>66.783121</td>\n",
              "    </tr>\n",
              "    <tr>\n",
              "      <th>std</th>\n",
              "      <td>110.018643</td>\n",
              "      <td>429.616795</td>\n",
              "      <td>1.026640e+05</td>\n",
              "      <td>16.757689</td>\n",
              "      <td>83.255739</td>\n",
              "      <td>25.699009</td>\n",
              "    </tr>\n",
              "    <tr>\n",
              "      <th>min</th>\n",
              "      <td>9.000000</td>\n",
              "      <td>1.000000</td>\n",
              "      <td>2.500000e+01</td>\n",
              "      <td>-34.610548</td>\n",
              "      <td>-172.790661</td>\n",
              "      <td>0.000000</td>\n",
              "    </tr>\n",
              "    <tr>\n",
              "      <th>25%</th>\n",
              "      <td>123.000000</td>\n",
              "      <td>1.000000</td>\n",
              "      <td>1.025000e+03</td>\n",
              "      <td>6.266728</td>\n",
              "      <td>-71.967463</td>\n",
              "      <td>60.000000</td>\n",
              "    </tr>\n",
              "    <tr>\n",
              "      <th>50%</th>\n",
              "      <td>151.000000</td>\n",
              "      <td>4.000000</td>\n",
              "      <td>3.000000e+03</td>\n",
              "      <td>13.484101</td>\n",
              "      <td>41.899993</td>\n",
              "      <td>73.000000</td>\n",
              "    </tr>\n",
              "    <tr>\n",
              "      <th>75%</th>\n",
              "      <td>204.000000</td>\n",
              "      <td>16.000000</td>\n",
              "      <td>1.010000e+04</td>\n",
              "      <td>22.189940</td>\n",
              "      <td>106.677321</td>\n",
              "      <td>84.000000</td>\n",
              "    </tr>\n",
              "    <tr>\n",
              "      <th>max</th>\n",
              "      <td>545.000000</td>\n",
              "      <td>22538.000000</td>\n",
              "      <td>4.929900e+06</td>\n",
              "      <td>51.314017</td>\n",
              "      <td>159.972900</td>\n",
              "      <td>100.000000</td>\n",
              "    </tr>\n",
              "  </tbody>\n",
              "</table>\n",
              "</div>\n",
              "    <div class=\"colab-df-buttons\">\n",
              "\n",
              "  <div class=\"colab-df-container\">\n",
              "    <button class=\"colab-df-convert\" onclick=\"convertToInteractive('df-41bf6471-579f-4810-b964-7b4598929a65')\"\n",
              "            title=\"Convert this dataframe to an interactive table.\"\n",
              "            style=\"display:none;\">\n",
              "\n",
              "  <svg xmlns=\"http://www.w3.org/2000/svg\" height=\"24px\" viewBox=\"0 -960 960 960\">\n",
              "    <path d=\"M120-120v-720h720v720H120Zm60-500h600v-160H180v160Zm220 220h160v-160H400v160Zm0 220h160v-160H400v160ZM180-400h160v-160H180v160Zm440 0h160v-160H620v160ZM180-180h160v-160H180v160Zm440 0h160v-160H620v160Z\"/>\n",
              "  </svg>\n",
              "    </button>\n",
              "\n",
              "  <style>\n",
              "    .colab-df-container {\n",
              "      display:flex;\n",
              "      gap: 12px;\n",
              "    }\n",
              "\n",
              "    .colab-df-convert {\n",
              "      background-color: #E8F0FE;\n",
              "      border: none;\n",
              "      border-radius: 50%;\n",
              "      cursor: pointer;\n",
              "      display: none;\n",
              "      fill: #1967D2;\n",
              "      height: 32px;\n",
              "      padding: 0 0 0 0;\n",
              "      width: 32px;\n",
              "    }\n",
              "\n",
              "    .colab-df-convert:hover {\n",
              "      background-color: #E2EBFA;\n",
              "      box-shadow: 0px 1px 2px rgba(60, 64, 67, 0.3), 0px 1px 3px 1px rgba(60, 64, 67, 0.15);\n",
              "      fill: #174EA6;\n",
              "    }\n",
              "\n",
              "    .colab-df-buttons div {\n",
              "      margin-bottom: 4px;\n",
              "    }\n",
              "\n",
              "    [theme=dark] .colab-df-convert {\n",
              "      background-color: #3B4455;\n",
              "      fill: #D2E3FC;\n",
              "    }\n",
              "\n",
              "    [theme=dark] .colab-df-convert:hover {\n",
              "      background-color: #434B5C;\n",
              "      box-shadow: 0px 1px 3px 1px rgba(0, 0, 0, 0.15);\n",
              "      filter: drop-shadow(0px 1px 2px rgba(0, 0, 0, 0.3));\n",
              "      fill: #FFFFFF;\n",
              "    }\n",
              "  </style>\n",
              "\n",
              "    <script>\n",
              "      const buttonEl =\n",
              "        document.querySelector('#df-41bf6471-579f-4810-b964-7b4598929a65 button.colab-df-convert');\n",
              "      buttonEl.style.display =\n",
              "        google.colab.kernel.accessAllowed ? 'block' : 'none';\n",
              "\n",
              "      async function convertToInteractive(key) {\n",
              "        const element = document.querySelector('#df-41bf6471-579f-4810-b964-7b4598929a65');\n",
              "        const dataTable =\n",
              "          await google.colab.kernel.invokeFunction('convertToInteractive',\n",
              "                                                    [key], {});\n",
              "        if (!dataTable) return;\n",
              "\n",
              "        const docLinkHtml = 'Like what you see? Visit the ' +\n",
              "          '<a target=\"_blank\" href=https://colab.research.google.com/notebooks/data_table.ipynb>data table notebook</a>'\n",
              "          + ' to learn more about interactive tables.';\n",
              "        element.innerHTML = '';\n",
              "        dataTable['output_type'] = 'display_data';\n",
              "        await google.colab.output.renderOutput(dataTable, element);\n",
              "        const docLink = document.createElement('div');\n",
              "        docLink.innerHTML = docLinkHtml;\n",
              "        element.appendChild(docLink);\n",
              "      }\n",
              "    </script>\n",
              "  </div>\n",
              "\n",
              "\n",
              "<div id=\"df-770a4cbe-f4a5-4026-8ac4-10c9271629f5\">\n",
              "  <button class=\"colab-df-quickchart\" onclick=\"quickchart('df-770a4cbe-f4a5-4026-8ac4-10c9271629f5')\"\n",
              "            title=\"Suggest charts\"\n",
              "            style=\"display:none;\">\n",
              "\n",
              "<svg xmlns=\"http://www.w3.org/2000/svg\" height=\"24px\"viewBox=\"0 0 24 24\"\n",
              "     width=\"24px\">\n",
              "    <g>\n",
              "        <path d=\"M19 3H5c-1.1 0-2 .9-2 2v14c0 1.1.9 2 2 2h14c1.1 0 2-.9 2-2V5c0-1.1-.9-2-2-2zM9 17H7v-7h2v7zm4 0h-2V7h2v10zm4 0h-2v-4h2v4z\"/>\n",
              "    </g>\n",
              "</svg>\n",
              "  </button>\n",
              "\n",
              "<style>\n",
              "  .colab-df-quickchart {\n",
              "      --bg-color: #E8F0FE;\n",
              "      --fill-color: #1967D2;\n",
              "      --hover-bg-color: #E2EBFA;\n",
              "      --hover-fill-color: #174EA6;\n",
              "      --disabled-fill-color: #AAA;\n",
              "      --disabled-bg-color: #DDD;\n",
              "  }\n",
              "\n",
              "  [theme=dark] .colab-df-quickchart {\n",
              "      --bg-color: #3B4455;\n",
              "      --fill-color: #D2E3FC;\n",
              "      --hover-bg-color: #434B5C;\n",
              "      --hover-fill-color: #FFFFFF;\n",
              "      --disabled-bg-color: #3B4455;\n",
              "      --disabled-fill-color: #666;\n",
              "  }\n",
              "\n",
              "  .colab-df-quickchart {\n",
              "    background-color: var(--bg-color);\n",
              "    border: none;\n",
              "    border-radius: 50%;\n",
              "    cursor: pointer;\n",
              "    display: none;\n",
              "    fill: var(--fill-color);\n",
              "    height: 32px;\n",
              "    padding: 0;\n",
              "    width: 32px;\n",
              "  }\n",
              "\n",
              "  .colab-df-quickchart:hover {\n",
              "    background-color: var(--hover-bg-color);\n",
              "    box-shadow: 0 1px 2px rgba(60, 64, 67, 0.3), 0 1px 3px 1px rgba(60, 64, 67, 0.15);\n",
              "    fill: var(--button-hover-fill-color);\n",
              "  }\n",
              "\n",
              "  .colab-df-quickchart-complete:disabled,\n",
              "  .colab-df-quickchart-complete:disabled:hover {\n",
              "    background-color: var(--disabled-bg-color);\n",
              "    fill: var(--disabled-fill-color);\n",
              "    box-shadow: none;\n",
              "  }\n",
              "\n",
              "  .colab-df-spinner {\n",
              "    border: 2px solid var(--fill-color);\n",
              "    border-color: transparent;\n",
              "    border-bottom-color: var(--fill-color);\n",
              "    animation:\n",
              "      spin 1s steps(1) infinite;\n",
              "  }\n",
              "\n",
              "  @keyframes spin {\n",
              "    0% {\n",
              "      border-color: transparent;\n",
              "      border-bottom-color: var(--fill-color);\n",
              "      border-left-color: var(--fill-color);\n",
              "    }\n",
              "    20% {\n",
              "      border-color: transparent;\n",
              "      border-left-color: var(--fill-color);\n",
              "      border-top-color: var(--fill-color);\n",
              "    }\n",
              "    30% {\n",
              "      border-color: transparent;\n",
              "      border-left-color: var(--fill-color);\n",
              "      border-top-color: var(--fill-color);\n",
              "      border-right-color: var(--fill-color);\n",
              "    }\n",
              "    40% {\n",
              "      border-color: transparent;\n",
              "      border-right-color: var(--fill-color);\n",
              "      border-top-color: var(--fill-color);\n",
              "    }\n",
              "    60% {\n",
              "      border-color: transparent;\n",
              "      border-right-color: var(--fill-color);\n",
              "    }\n",
              "    80% {\n",
              "      border-color: transparent;\n",
              "      border-right-color: var(--fill-color);\n",
              "      border-bottom-color: var(--fill-color);\n",
              "    }\n",
              "    90% {\n",
              "      border-color: transparent;\n",
              "      border-bottom-color: var(--fill-color);\n",
              "    }\n",
              "  }\n",
              "</style>\n",
              "\n",
              "  <script>\n",
              "    async function quickchart(key) {\n",
              "      const quickchartButtonEl =\n",
              "        document.querySelector('#' + key + ' button');\n",
              "      quickchartButtonEl.disabled = true;  // To prevent multiple clicks.\n",
              "      quickchartButtonEl.classList.add('colab-df-spinner');\n",
              "      try {\n",
              "        const charts = await google.colab.kernel.invokeFunction(\n",
              "            'suggestCharts', [key], {});\n",
              "      } catch (error) {\n",
              "        console.error('Error during call to suggestCharts:', error);\n",
              "      }\n",
              "      quickchartButtonEl.classList.remove('colab-df-spinner');\n",
              "      quickchartButtonEl.classList.add('colab-df-quickchart-complete');\n",
              "    }\n",
              "    (() => {\n",
              "      let quickchartButtonEl =\n",
              "        document.querySelector('#df-770a4cbe-f4a5-4026-8ac4-10c9271629f5 button');\n",
              "      quickchartButtonEl.style.display =\n",
              "        google.colab.kernel.accessAllowed ? 'block' : 'none';\n",
              "    })();\n",
              "  </script>\n",
              "</div>\n",
              "\n",
              "    </div>\n",
              "  </div>\n"
            ],
            "application/vnd.google.colaboratory.intrinsic+json": {
              "type": "dataframe",
              "summary": "{\n  \"name\": \"df\",\n  \"rows\": 8,\n  \"fields\": [\n    {\n      \"column\": \"Partner ID\",\n      \"properties\": {\n        \"dtype\": \"number\",\n        \"std\": 4765.821954058164,\n        \"min\": 9.0,\n        \"max\": 13662.0,\n        \"num_unique_values\": 8,\n        \"samples\": [\n          184.40133216220173,\n          151.0,\n          13662.0\n        ],\n        \"semantic_type\": \"\",\n        \"description\": \"\"\n      }\n    },\n    {\n      \"column\": \"number\",\n      \"properties\": {\n        \"dtype\": \"number\",\n        \"std\": 8671.289598747384,\n        \"min\": 1.0,\n        \"max\": 22538.0,\n        \"num_unique_values\": 7,\n        \"samples\": [\n          13662.0,\n          59.27565510174206,\n          16.0\n        ],\n        \"semantic_type\": \"\",\n        \"description\": \"\"\n      }\n    },\n    {\n      \"column\": \"amount\",\n      \"properties\": {\n        \"dtype\": \"number\",\n        \"std\": 1735598.9984311843,\n        \"min\": 25.0,\n        \"max\": 4929900.0,\n        \"num_unique_values\": 8,\n        \"samples\": [\n          22237.454252671643,\n          3000.0,\n          13662.0\n        ],\n        \"semantic_type\": \"\",\n        \"description\": \"\"\n      }\n    },\n    {\n      \"column\": \"lat\",\n      \"properties\": {\n        \"dtype\": \"number\",\n        \"std\": 4825.771768355715,\n        \"min\": -34.610548,\n        \"max\": 13662.0,\n        \"num_unique_values\": 8,\n        \"samples\": [\n          14.328878444290732,\n          13.4841015,\n          13662.0\n        ],\n        \"semantic_type\": \"\",\n        \"description\": \"\"\n      }\n    },\n    {\n      \"column\": \"lon\",\n      \"properties\": {\n        \"dtype\": \"number\",\n        \"std\": 4822.475043880968,\n        \"min\": -172.7906609,\n        \"max\": 13662.0,\n        \"num_unique_values\": 8,\n        \"samples\": [\n          29.43356852840726,\n          41.8999934,\n          13662.0\n        ],\n        \"semantic_type\": \"\",\n        \"description\": \"\"\n      }\n    },\n    {\n      \"column\": \"rural_pct\",\n      \"properties\": {\n        \"dtype\": \"number\",\n        \"std\": 4809.6706637409,\n        \"min\": 0.0,\n        \"max\": 13662.0,\n        \"num_unique_values\": 8,\n        \"samples\": [\n          66.78312106572976,\n          73.0,\n          13662.0\n        ],\n        \"semantic_type\": \"\",\n        \"description\": \"\"\n      }\n    }\n  ]\n}"
            }
          },
          "metadata": {},
          "execution_count": 11
        }
      ]
    },
    {
      "cell_type": "code",
      "source": [
        "plt.figure(figsize=(12, 8))\n",
        "sns.countplot(data=df, y='sector', order=df['sector'].value_counts().index, palette='viridis')\n",
        "plt.title('Loan Sector Distribution')\n",
        "plt.xlabel('count')\n",
        "plt.ylabel('Sector')\n",
        "plt.show()"
      ],
      "metadata": {
        "colab": {
          "base_uri": "https://localhost:8080/",
          "height": 707
        },
        "id": "i_RBBYppIltL",
        "outputId": "3ffd0ca5-b5f9-49c9-8c17-39d2685bc13d"
      },
      "execution_count": null,
      "outputs": [
        {
          "output_type": "stream",
          "name": "stderr",
          "text": [
            "<ipython-input-12-ad9841fc5244>:2: FutureWarning: \n",
            "\n",
            "Passing `palette` without assigning `hue` is deprecated and will be removed in v0.14.0. Assign the `y` variable to `hue` and set `legend=False` for the same effect.\n",
            "\n",
            "  sns.countplot(data=df, y='sector', order=df['sector'].value_counts().index, palette='viridis')\n"
          ]
        },
        {
          "output_type": "display_data",
          "data": {
            "text/plain": [
              "<Figure size 1200x800 with 1 Axes>"
            ],
            "image/png": "[encoded data removed]"
          },
          "metadata": {}
        }
      ]
    },
    {
      "cell_type": "markdown",
      "source": [
        "From the countplot above, the General Financial Inclusion exceeds all the other loans in terms of disbursment."
      ],
      "metadata": {
        "id": "LtOi60oGSYj9"
      }
    },
    {
      "cell_type": "code",
      "source": [
        "plt.figure(figsize=(12, 10))\n",
        "sns.countplot(data=df, y='Loan Theme Type', order=df['Loan Theme Type'].value_counts().index[:10], palette='viridis')\n",
        "plt.title('Top 10 Loan Themes')\n",
        "plt.xlabel('count')\n",
        "plt.ylabel('Loan Theme Type')\n",
        "plt.show()"
      ],
      "metadata": {
        "colab": {
          "base_uri": "https://localhost:8080/",
          "height": 853
        },
        "id": "RrqtEN_bQj0p",
        "outputId": "8ea7224e-38b4-4c38-946b-f75f809c92e1"
      },
      "execution_count": null,
      "outputs": [
        {
          "output_type": "stream",
          "name": "stderr",
          "text": [
            "<ipython-input-13-ac8fb5443f85>:2: FutureWarning: \n",
            "\n",
            "Passing `palette` without assigning `hue` is deprecated and will be removed in v0.14.0. Assign the `y` variable to `hue` and set `legend=False` for the same effect.\n",
            "\n",
            "  sns.countplot(data=df, y='Loan Theme Type', order=df['Loan Theme Type'].value_counts().index[:10], palette='viridis')\n"
          ]
        },
        {
          "output_type": "display_data",
          "data": {
            "text/plain": [
              "<Figure size 1200x1000 with 1 Axes>"
            ],
            "image/png": "[encoded data removed]"
          },
          "metadata": {}
        }
      ]
    },
    {
      "cell_type": "markdown",
      "source": [
        "From the barchart we can see that the General Loan has always been popular among people. Then comes agriculture, Higher Education and so on."
      ],
      "metadata": {
        "id": "TzjpE7nMVlfv"
      }
    },
    {
      "cell_type": "code",
      "source": [
        "\n",
        "plt.figure(figsize=(10, 6))\n",
        "sns.histplot(df['amount'], bins = 100, kde=True)\n",
        "plt.title('Distribution of Loan Amounts')\n",
        "plt.xlabel('Loan Amount')\n",
        "plt.ylabel('Frequency')\n",
        "plt.show()"
      ],
      "metadata": {
        "id": "5uEBgvFqVxN4",
        "colab": {
          "base_uri": "https://localhost:8080/",
          "height": 564
        },
        "outputId": "7f2fe1ba-ad75-42fa-f52e-1947b1655395"
      },
      "execution_count": null,
      "outputs": [
        {
          "output_type": "display_data",
          "data": {
            "text/plain": [
              "<Figure size 1000x600 with 1 Axes>"
            ],
            "image/png": "[encoded data removed]"
          },
          "metadata": {}
        }
      ]
    },
    {
      "cell_type": "markdown",
      "source": [
        "Here we can see that the short amount loans are  more popular than long ammount of loans."
      ],
      "metadata": {
        "id": "3QawveazXCaB"
      }
    },
    {
      "cell_type": "code",
      "source": [
        "plt.figure(figsize=(10, 6))\n",
        "sns.countplot(data=df, y= 'Field Partner Name', order=df['Field Partner Name'].value_counts().index[:10], palette='viridis')\n",
        "plt.xlabel('Count')\n",
        "plt.ylabel('Field Partner Name')\n",
        "plt.show()"
      ],
      "metadata": {
        "colab": {
          "base_uri": "https://localhost:8080/",
          "height": 551
        },
        "id": "GCmi129-DsHh",
        "outputId": "327f6dfa-0930-4888-f7fd-1a2f28f1d323"
      },
      "execution_count": null,
      "outputs": [
        {
          "output_type": "stream",
          "name": "stderr",
          "text": [
            "<ipython-input-15-84bc793ed818>:2: FutureWarning: \n",
            "\n",
            "Passing `palette` without assigning `hue` is deprecated and will be removed in v0.14.0. Assign the `y` variable to `hue` and set `legend=False` for the same effect.\n",
            "\n",
            "  sns.countplot(data=df, y= 'Field Partner Name', order=df['Field Partner Name'].value_counts().index[:10], palette='viridis')\n"
          ]
        },
        {
          "output_type": "display_data",
          "data": {
            "text/plain": [
              "<Figure size 1000x600 with 1 Axes>"
            ],
            "image/png": "[encoded data removed]"
          },
          "metadata": {}
        }
      ]
    },
    {
      "cell_type": "markdown",
      "source": [
        "We can see that many field partners are present to reach out to unblanked people with loan facilities."
      ],
      "metadata": {
        "id": "2fNLyxOhXVBw"
      }
    },
    {
      "cell_type": "code",
      "source": [
        "plt.figure(figsize=(10, 8))\n",
        "sns.histplot(df['rural_pct'], bins= 50, kde= True)\n",
        "plt.title('Distribution of Rural Percentage')\n",
        "plt.xlabel('Rural_Percentage')\n",
        "plt.ylabel('Frequency')\n",
        "plt.show()"
      ],
      "metadata": {
        "colab": {
          "base_uri": "https://localhost:8080/",
          "height": 718
        },
        "id": "1uVZ_8ZwB4iD",
        "outputId": "f6e30ab2-4e2a-45b6-a27f-6bed48780764"
      },
      "execution_count": null,
      "outputs": [
        {
          "output_type": "display_data",
          "data": {
            "text/plain": [
              "<Figure size 1000x800 with 1 Axes>"
            ],
            "image/png": "[encoded data removed]"
          },
          "metadata": {}
        }
      ]
    },
    {
      "cell_type": "markdown",
      "source": [
        "Also these bar show that the rural people tend to take more loans than people in the urban area."
      ],
      "metadata": {
        "id": "VkyC_QmCXuzB"
      }
    },
    {
      "cell_type": "code",
      "source": [
        "correlation_matrix = df[['amount' , 'rural_pct']].corr()\n",
        "plt.figure(figsize=(10 , 8))\n",
        "sns.heatmap(correlation_matrix, annot=True, cmap= 'coolwarm', fmt= '2f')\n",
        "plt.title('Correlation Matrix')\n",
        "plt.show()"
      ],
      "metadata": {
        "colab": {
          "base_uri": "https://localhost:8080/",
          "height": 699
        },
        "id": "pbprOfq1DG4P",
        "outputId": "d96e7629-09e8-42f9-8b2d-22a786365791"
      },
      "execution_count": null,
      "outputs": [
        {
          "output_type": "display_data",
          "data": {
            "text/plain": [
              "<Figure size 1000x800 with 2 Axes>"
            ],
            "image/png": "[encoded data removed]"
          },
          "metadata": {}
        }
      ]
    },
    {
      "cell_type": "markdown",
      "source": [
        "However we can find not a lot of significant correalation between loan amount and rural pct score."
      ],
      "metadata": {
        "id": "ClOEjasYYJMr"
      }
    },
    {
      "cell_type": "code",
      "source": [],
      "metadata": {
        "id": "ElCgPUkAEwVR"
      },
      "execution_count": null,
      "outputs": []
    }
  ]
}